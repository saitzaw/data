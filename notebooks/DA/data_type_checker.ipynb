{
 "cells": [
  {
   "cell_type": "code",
   "execution_count": 1,
   "id": "8ceecda5-1af4-447a-b804-c3522837088c",
   "metadata": {},
   "outputs": [],
   "source": [
    "import sys\n",
    "import pyspark\n",
    "from pyspark.sql import SparkSession"
   ]
  },
  {
   "cell_type": "code",
   "execution_count": 2,
   "id": "203e84a4-c0f6-4ae6-9607-6dfd33afa32e",
   "metadata": {},
   "outputs": [],
   "source": [
    "sys.path.append(\"/opt/workspace\")\n",
    "from load_env import env_parameter\n",
    "\n",
    "# Load from .env\n",
    "env_vars = env_parameter()"
   ]
  },
  {
   "cell_type": "code",
   "execution_count": 3,
   "id": "029c5349-d082-45ae-b251-4857e5f685b5",
   "metadata": {},
   "outputs": [],
   "source": [
    "jdbc_url = env_vars[\"jdbc_url\"]\n",
    "db_user = env_vars[\"db_user\"]\n",
    "db_password = env_vars[\"db_password\"]\n",
    "spark_master = env_vars[\"spark_master\"]\n",
    "pg_jar = env_vars[\"pg_jar\"]\n",
    "event_log_dir = env_vars[\"event_log_dir\"]\n",
    "pg_driver = env_vars[\"pg_driver\"]"
   ]
  },
  {
   "cell_type": "code",
   "execution_count": 4,
   "id": "92096e4a-84b7-4171-823b-3e3e82aec6ac",
   "metadata": {},
   "outputs": [
    {
     "name": "stdout",
     "output_type": "stream",
     "text": [
      ":: loading settings :: url = jar:file:/opt/spark/jars/ivy-2.5.1.jar!/org/apache/ivy/core/settings/ivysettings.xml\n"
     ]
    },
    {
     "name": "stderr",
     "output_type": "stream",
     "text": [
      "Ivy Default Cache set to: /root/.ivy2/cache\n",
      "The jars for the packages stored in: /root/.ivy2/jars\n",
      "org.postgresql#postgresql added as a dependency\n",
      ":: resolving dependencies :: org.apache.spark#spark-submit-parent-e846c818-19d4-4404-b078-44edb7553c4c;1.0\n",
      "\tconfs: [default]\n",
      "\tfound org.postgresql#postgresql;42.5.0 in central\n",
      "\tfound org.checkerframework#checker-qual;3.5.0 in central\n",
      ":: resolution report :: resolve 125ms :: artifacts dl 13ms\n",
      "\t:: modules in use:\n",
      "\torg.checkerframework#checker-qual;3.5.0 from central in [default]\n",
      "\torg.postgresql#postgresql;42.5.0 from central in [default]\n",
      "\t---------------------------------------------------------------------\n",
      "\t|                  |            modules            ||   artifacts   |\n",
      "\t|       conf       | number| search|dwnlded|evicted|| number|dwnlded|\n",
      "\t---------------------------------------------------------------------\n",
      "\t|      default     |   2   |   0   |   0   |   0   ||   2   |   0   |\n",
      "\t---------------------------------------------------------------------\n",
      ":: retrieving :: org.apache.spark#spark-submit-parent-e846c818-19d4-4404-b078-44edb7553c4c\n",
      "\tconfs: [default]\n",
      "\t0 artifacts copied, 2 already retrieved (0kB/8ms)\n",
      "25/06/06 15:57:14 WARN NativeCodeLoader: Unable to load native-hadoop library for your platform... using builtin-java classes where applicable\n",
      "Setting default log level to \"WARN\".\n",
      "To adjust logging level use sc.setLogLevel(newLevel). For SparkR, use setLogLevel(newLevel).\n"
     ]
    }
   ],
   "source": [
    "# Start Spark session with PostgreSQL JDBC driver\n",
    "spark = SparkSession.builder \\\n",
    "    .appName(\"ReadCRM\") \\\n",
    "    .master(spark_master) \\\n",
    "    .config(\"spark.jars.packages\", pg_jar) \\\n",
    "    .config(\"spark.eventLog.enabled\", \"true\") \\\n",
    "    .config(\"spark.eventLog.dir\", event_log_dir) \\\n",
    "    .getOrCreate()"
   ]
  },
  {
   "cell_type": "code",
   "execution_count": 5,
   "id": "fe2b8008-d56f-4463-b536-6f94da0c2db8",
   "metadata": {},
   "outputs": [],
   "source": [
    "jdbc_properties = {\n",
    "    \"user\": db_user,\n",
    "    \"password\": db_password,\n",
    "    \"driver\": pg_driver\n",
    "}"
   ]
  },
  {
   "cell_type": "code",
   "execution_count": 9,
   "id": "c7e7ba0c-91bf-43e3-a345-670a34eed643",
   "metadata": {},
   "outputs": [],
   "source": [
    "# UDF \n",
    "def fetch_create_dataframe(spark, jdbc_url, table_name, jdbc_properties): \n",
    "    return spark.read.jdbc(url=jdbc_url, table=table_name, properties=jdbc_properties)"
   ]
  },
  {
   "cell_type": "code",
   "execution_count": 10,
   "id": "2d6ae993-4ef3-42ff-a901-e88c7ecf04c3",
   "metadata": {},
   "outputs": [],
   "source": [
    "df_customer = fetch_create_dataframe(spark, jdbc_url, \"customers\", jdbc_properties)"
   ]
  },
  {
   "cell_type": "code",
   "execution_count": 11,
   "id": "9c2ac998-9d3d-42ad-86e3-0a55a4e29139",
   "metadata": {},
   "outputs": [
    {
     "name": "stdout",
     "output_type": "stream",
     "text": [
      "+---+-----------------+-------------+-------------+--------+--------------------+-------------+--------------------+--------------------+\n",
      "| id|             name|     industry|       region|   phone|             website|         tags|            metadata|          created_at|\n",
      "+---+-----------------+-------------+-------------+--------+--------------------+-------------+--------------------+--------------------+\n",
      "|  1|Northwind Traders|       Retail|North America|555-1001|https://northwind...|[active, key]|{\"customer_tier\":...|2025-06-02 17:19:...|\n",
      "|  2|      Contoso Ltd|   Technology|       Europe|555-1002| https://contoso.com|   [prospect]|{\"platform\": \"Azu...|2025-06-02 17:19:...|\n",
      "|  3|  Adventure Works|Manufacturing|         Asia|555-1003|https://adventure...|        [new]|{\"needs\": \"IoT in...|2025-06-02 17:19:...|\n",
      "+---+-----------------+-------------+-------------+--------+--------------------+-------------+--------------------+--------------------+\n",
      "\n"
     ]
    }
   ],
   "source": [
    "df_customer.show()"
   ]
  },
  {
   "cell_type": "code",
   "execution_count": 12,
   "id": "69823d0e-5ac8-462e-a809-4113508a619a",
   "metadata": {},
   "outputs": [],
   "source": [
    "df_users = fetch_create_dataframe(spark, jdbc_url, \"users\", jdbc_properties)"
   ]
  },
  {
   "cell_type": "code",
   "execution_count": 13,
   "id": "cc54ced2-830a-4b44-aa8c-5fcf040d17b0",
   "metadata": {},
   "outputs": [
    {
     "name": "stdout",
     "output_type": "stream",
     "text": [
      "+---+--------+--------------+--------------------+-------+--------------------+\n",
      "| id|username|     full_name|               email|   role|          created_at|\n",
      "+---+--------+--------------+--------------------+-------+--------------------+\n",
      "|  1| jmartin|  Julia Martin|julia.martin@exam...|  sales|2025-06-02 17:19:...|\n",
      "|  2| bwilson|    Ben Wilson|ben.wilson@exampl...|  sales|2025-06-02 17:19:...|\n",
      "|  3|  lgreen|   Linda Green|linda.green@examp...|  sales|2025-06-02 17:19:...|\n",
      "|  4| mkeller|Michael Keller|michael.keller@ex...|manager|2025-06-02 17:19:...|\n",
      "+---+--------+--------------+--------------------+-------+--------------------+\n",
      "\n"
     ]
    }
   ],
   "source": [
    "df_users.show()"
   ]
  },
  {
   "cell_type": "code",
   "execution_count": 14,
   "id": "ac0a2a87-7d9b-4d1c-85be-06b6984f825a",
   "metadata": {},
   "outputs": [],
   "source": [
    "df_contacts = fetch_create_dataframe(spark, jdbc_url, \"contacts\", jdbc_properties)"
   ]
  },
  {
   "cell_type": "code",
   "execution_count": 15,
   "id": "978d7c5d-4a90-43bd-a353-47d20bd3ea0c",
   "metadata": {},
   "outputs": [
    {
     "name": "stdout",
     "output_type": "stream",
     "text": [
      "+---+-----------+------------+--------------------+--------+---------------+--------------------+--------------------+\n",
      "| id|customer_id|   full_name|               email|   phone|          title|               notes|          created_at|\n",
      "+---+-----------+------------+--------------------+--------+---------------+--------------------+--------------------+\n",
      "|  1|          1|Sarah Thomas|sarah.thomas@nort...|555-2001|            CTO|Decision-maker fo...|2025-06-02 17:19:...|\n",
      "|  2|          2|Robert Allen|robert.allen@cont...|555-2002|Product Manager|Handles vendor ev...|2025-06-02 17:19:...|\n",
      "|  3|          3| Emily Stone|emily.stone@adven...|555-2003|Operations Head|Focuses on proces...|2025-06-02 17:19:...|\n",
      "+---+-----------+------------+--------------------+--------+---------------+--------------------+--------------------+\n",
      "\n"
     ]
    }
   ],
   "source": [
    "df_contacts.show()"
   ]
  },
  {
   "cell_type": "code",
   "execution_count": 19,
   "id": "9c11a1ea-9b23-4642-b112-8442c1686032",
   "metadata": {},
   "outputs": [],
   "source": [
    "from pyspark.sql.functions  import col \n",
    "df_cust_contacts = df_contacts.alias(\"a\").join(df_customer.alias(\"b\"), col(\"a.customer_id\") == col(\"b.id\"), \"inner\")"
   ]
  },
  {
   "cell_type": "code",
   "execution_count": 20,
   "id": "e3255c42-f731-49a6-9c21-ddda7e59df5f",
   "metadata": {},
   "outputs": [
    {
     "name": "stderr",
     "output_type": "stream",
     "text": [
      "[Stage 5:>                  (0 + 1) / 1][Stage 6:>                  (0 + 1) / 1]"
     ]
    },
    {
     "name": "stdout",
     "output_type": "stream",
     "text": [
      "+---+-----------+------------+--------------------+--------+---------------+--------------------+--------------------+---+-----------------+-------------+-------------+--------+--------------------+-------------+--------------------+--------------------+\n",
      "| id|customer_id|   full_name|               email|   phone|          title|               notes|          created_at| id|             name|     industry|       region|   phone|             website|         tags|            metadata|          created_at|\n",
      "+---+-----------+------------+--------------------+--------+---------------+--------------------+--------------------+---+-----------------+-------------+-------------+--------+--------------------+-------------+--------------------+--------------------+\n",
      "|  1|          1|Sarah Thomas|sarah.thomas@nort...|555-2001|            CTO|Decision-maker fo...|2025-06-02 17:19:...|  1|Northwind Traders|       Retail|North America|555-1001|https://northwind...|[active, key]|{\"customer_tier\":...|2025-06-02 17:19:...|\n",
      "|  2|          2|Robert Allen|robert.allen@cont...|555-2002|Product Manager|Handles vendor ev...|2025-06-02 17:19:...|  2|      Contoso Ltd|   Technology|       Europe|555-1002| https://contoso.com|   [prospect]|{\"platform\": \"Azu...|2025-06-02 17:19:...|\n",
      "|  3|          3| Emily Stone|emily.stone@adven...|555-2003|Operations Head|Focuses on proces...|2025-06-02 17:19:...|  3|  Adventure Works|Manufacturing|         Asia|555-1003|https://adventure...|        [new]|{\"needs\": \"IoT in...|2025-06-02 17:19:...|\n",
      "+---+-----------+------------+--------------------+--------+---------------+--------------------+--------------------+---+-----------------+-------------+-------------+--------+--------------------+-------------+--------------------+--------------------+\n",
      "\n"
     ]
    },
    {
     "name": "stderr",
     "output_type": "stream",
     "text": [
      "                                                                                "
     ]
    }
   ],
   "source": [
    "df_cust_contacts.show()"
   ]
  },
  {
   "cell_type": "code",
   "execution_count": 21,
   "id": "5d7963ec-d14e-4d76-bb0d-c08ab70e966b",
   "metadata": {},
   "outputs": [],
   "source": [
    "spark.stop()"
   ]
  },
  {
   "cell_type": "code",
   "execution_count": null,
   "id": "64540a11-2c5b-4d2e-9c23-505865f628e4",
   "metadata": {},
   "outputs": [],
   "source": []
  }
 ],
 "metadata": {
  "kernelspec": {
   "display_name": "Python 3 (ipykernel)",
   "language": "python",
   "name": "python3"
  },
  "language_info": {
   "codemirror_mode": {
    "name": "ipython",
    "version": 3
   },
   "file_extension": ".py",
   "mimetype": "text/x-python",
   "name": "python",
   "nbconvert_exporter": "python",
   "pygments_lexer": "ipython3",
   "version": "3.12.9"
  }
 },
 "nbformat": 4,
 "nbformat_minor": 5
}
